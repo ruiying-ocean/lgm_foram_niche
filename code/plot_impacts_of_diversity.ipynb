{
 "cells": [
  {
   "cell_type": "code",
   "execution_count": 8,
   "metadata": {
    "collapsed": true
   },
   "outputs": [],
   "source": [
    "from cgeniepy.foram import ForamModel as fm\n",
    "from matplotlib import pyplot as plt\n",
    "import matplotlib as mpl\n",
    "import numpy as np\n",
    "\n",
    "mpl.rcParams.update(mpl.rcParamsDefault)\n",
    "mpl.rcParams[\"font.family\"] = \"Fira Sans\"\n",
    "\n",
    "def biomass_diff(xmodel, xtime, ymodel=None, ytime=None, percentage=False):\n",
    "    if not ymodel:\n",
    "        #print(\"Detecting the same model\")\n",
    "        ymodel = xmodel\n",
    "\n",
    "    # to avoid \"if not zero = True\"\n",
    "    if not ytime and ytime != 0:\n",
    "        #print(\"Detecting the same time\")\n",
    "        ytime = xtime\n",
    "\n",
    "    foram_names = [\"bn\", \"bs\", \"sn\", \"ss\"]\n",
    "    x_assem, y_assem = [],[]\n",
    "\n",
    "    for foram in foram_names:\n",
    "        x_state_foram = fm(xmodel).select_foramtype(foram).biomass().isel(time=xtime).sum().magnitude\n",
    "        y_state_foram = fm(ymodel).select_foramtype(foram).biomass().isel(time=ytime).sum().magnitude\n",
    "        x_assem.append(x_state_foram)\n",
    "        y_assem.append(y_state_foram)\n",
    "\n",
    "    # calculate squared chord distance for each model\n",
    "    assemblage_1 = np.array(x_assem).sum()\n",
    "    assemblage_2 = np.array(y_assem).sum()\n",
    "    diff = assemblage_1 -assemblage_2\n",
    "    if percentage:\n",
    "        return diff/assemblage_2 * 100\n",
    "    else:\n",
    "        return diff"
   ]
  },
  {
   "cell_type": "code",
   "execution_count": 9,
   "outputs": [],
   "source": [
    "mod_paths = [\n",
    "    \"../model/worjh2.RpCO2_Rp13CO2.Albani.2100.4deg.nonspinose\",\n",
    "    \"../model/worjh2.RpCO2_Rp13CO2.Albani.2100.4deg.asymbiosis\",\n",
    "    \"../model/worjh2.RpCO2_Rp13CO2.Albani.2100.4deg.spinose\",\n",
    "    \"../model/worjh2.RpCO2_Rp13CO2.Albani.2100.4deg.symbiosis\",\n",
    "    \"../model/worjh2.RpCO2_Rp13CO2.Albani.2100.4deg\",\n",
    "]\n",
    "\n",
    "fig, ax = plt.subplots(1, 1)\n",
    "\n",
    "labels = ['Non-spinose only', 'Asymbiotic only', 'Spinose only','Symbiotic only', 'Full']\n",
    "\n",
    "for position in ['top','bottom','left','right']:\n",
    "    ax.spines[position].set_linewidth(1)\n",
    "    ax.spines[position].set_color(\"black\")\n",
    "\n",
    "for i, ipath in enumerate(mod_paths):\n",
    "    biomass = []\n",
    "    time_label = fm(ipath).select_var(\"time\").array.values - 4.5\n",
    "    # print 2000 year and afterwards\n",
    "    for j in range(len(time_label)):\n",
    "        biomass.append(biomass_diff(xmodel=ipath, xtime=j, ytime=0, percentage=True))\n",
    "    biomass = np.array(biomass)\n",
    "    ax.plot(time_label, biomass, label=labels[i], linewidth=2)\n",
    "\n",
    "\n",
    "ax.set_xlabel(\"Year\")\n",
    "ax.grid(True, which='both', linestyle='--', linewidth=0.3)\n",
    "ax.legend()\n",
    "\n",
    "ax.set_ylabel(\"Total biomass change under 4 degrees warming (%)\")\n",
    "fig.savefig(\"../output/diversity_increases_resilience.png\", dpi=300)"
   ],
   "metadata": {
    "collapsed": false
   }
  }
 ],
 "metadata": {
  "kernelspec": {
   "display_name": "Python 3",
   "language": "python",
   "name": "python3"
  },
  "language_info": {
   "codemirror_mode": {
    "name": "ipython",
    "version": 2
   },
   "file_extension": ".py",
   "mimetype": "text/x-python",
   "name": "python",
   "nbconvert_exporter": "python",
   "pygments_lexer": "ipython2",
   "version": "2.7.6"
  }
 },
 "nbformat": 4,
 "nbformat_minor": 0
}
