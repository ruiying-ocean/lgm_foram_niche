{
 "cells": [
  {
   "cell_type": "code",
   "execution_count": 1,
   "metadata": {
    "collapsed": true
   },
   "outputs": [
    {
     "name": "stderr",
     "output_type": "stream",
     "text": [
      "<frozen importlib._bootstrap>:241: RuntimeWarning: scipy._lib.messagestream.MessageStream size changed, may indicate binary incompatibility. Expected 56 from C header, got 64 from PyObject\n"
     ]
    }
   ],
   "source": [
    "import xarray as xr\n",
    "import pandas as pd\n",
    "import numpy as np\n",
    "\n",
    "env_data = xr.open_dataset(\"../data/lgm_env/Tierney2020_DA_ocn_regrid.nc\")\n",
    "SST_LGM = env_data['SSTLGM']\n",
    "SST_HOL = env_data['SSTLH']\n",
    "SSS_LGM = env_data['SSSLGM']\n",
    "SSS_HOL = env_data['SSSLH']\n",
    "\n",
    "Had_data = xr.open_dataset(\"../data/modern_env/HadISST_sst.nc\")\n",
    "Had_SST = Had_data['sst']\n",
    "\n",
    "# mask sea-ice-covered gridboxes (i.e., -1000)\n",
    "Had_SST = xr.where(Had_SST==-1000, np.nan, Had_SST)\n",
    "\n",
    "# mask Land squares are set to -32768\n",
    "Had_SST = xr.where(Had_SST==-32768, np.nan, Had_SST)\n",
    "\n",
    "# pick 1870 year (SST)\n",
    "Had_SST = Had_SST.isel(time=0)"
   ]
  },
  {
   "cell_type": "code",
   "execution_count": 26,
   "outputs": [
    {
     "name": "stderr",
     "output_type": "stream",
     "text": [
      "/Users/yingrui/miniforge3/envs/workspace/lib/python3.10/site-packages/xarray/coding/variables.py:142: FutureWarning: elementwise comparison failed; returning scalar instead, but in the future will perform elementwise comparison\n",
      "  condition |= data == fv\n"
     ]
    },
    {
     "data": {
      "text/plain": "[<matplotlib.lines.Line2D at 0x2aa6bc400>]"
     },
     "execution_count": 26,
     "metadata": {},
     "output_type": "execute_result"
    },
    {
     "data": {
      "text/plain": "<Figure size 640x480 with 1 Axes>",
      "image/png": "[encoded data removed]"
     },
     "metadata": {},
     "output_type": "display_data"
    }
   ],
   "source": [
    "import xarray as xr\n",
    "import numpy as np\n",
    "\n",
    "#deglacial sst\n",
    "deg_sst = xr.open_dataset(\"../data/deglaciation_climate/LGMR_SST_climo.nc\", drop_variables=['lon','lat'])\n",
    "#250-300\n",
    "#300-360, 0-40\n",
    "#deg_sst['sst'].sel(age=11000, method=\"nearest\").plot()\n",
    "mask = (\n",
    "        (deg_sst[\"lat\"] > 200)\n",
    "        & (deg_sst[\"lat\"] < 350)\n",
    "        & (deg_sst[\"lon\"] > 0)\n",
    "        & (deg_sst[\"lon\"] < 40)\n",
    ")\n",
    "xr.where(mask, np.nan, deg_sst['sst']).max(axis=0).max(axis=0).plot()\n"
   ],
   "metadata": {
    "collapsed": false
   }
  },
  {
   "cell_type": "code",
   "execution_count": 2,
   "outputs": [],
   "source": [
    "def convert2_pos_lon(x):\n",
    "    \"from -180~180 to 0~360\"\n",
    "    x[x<0] = x[x<0] + 360\n",
    "    return x\n",
    "\n",
    "def add_tierney_sst(data, lookup_data = SST_LGM, column_name=\"SST\"):\n",
    "    lst = []\n",
    "    latitude = data['Latitude'].copy()\n",
    "    longitude = data['Longitude'].copy()\n",
    "    longitude = convert2_pos_lon(longitude)\n",
    "\n",
    "    for i in range(len(longitude)):\n",
    "        lat = latitude[i]\n",
    "        lon = longitude[i]\n",
    "        x = lookup_data.sel(lat=lat,\n",
    "                         lon=lon,\n",
    "                         method=\"nearest\",\n",
    "                         tolerance=1).values\n",
    "\n",
    "        if np.isnan(x):\n",
    "            x = lookup_data.sel(lat=lat,\n",
    "                             lon=lon,\n",
    "                             method=\"pad\").values\n",
    "        if np.isnan(x):\n",
    "            x = lookup_data.sel(lat=lat,\n",
    "                             lon=lon,\n",
    "                             method=\"backfill\").values\n",
    "        lst.append(x)\n",
    "    data[column_name] = np.array(lst)\n",
    "\n",
    "def add_Had_data(data, lookup_data = Had_SST, column_name=\"SST\"):\n",
    "    lst = []\n",
    "    latitude = data['Latitude'].copy()\n",
    "    longitude = data['Longitude'].copy()\n",
    "\n",
    "    for i in range(len(longitude)):\n",
    "        lat = latitude[i]\n",
    "        lon = longitude[i]\n",
    "        x = lookup_data.sel(latitude=lat,\n",
    "                         longitude=lon,\n",
    "                         tolerance=1,\n",
    "                         method=\"nearest\").values\n",
    "        lst.append(x)\n",
    "    data[column_name] = np.array(lst)"
   ],
   "metadata": {
    "collapsed": false
   }
  },
  {
   "cell_type": "code",
   "execution_count": 7,
   "outputs": [],
   "source": [
    "lgm_pacific = pd.read_csv(\"../data/lgm_foram/raw/LGM_MARGO/LGM_MARGO_pacific_count.csv\")\n",
    "lgm_atlantic = pd.read_csv(\"../data/lgm_foram/raw/LGM_MARGO/LGM_MARGO_SouthAtlantic_count.csv\")\n",
    "climap_lgm = pd.read_csv(\"../data/lgm_foram/raw/LGM_CLIMAP.csv\")\n",
    "\n",
    "add_tierney_sst(lgm_pacific, SST_LGM, \"SST\")\n",
    "add_tierney_sst(lgm_atlantic, SST_LGM, \"SST\")\n",
    "add_tierney_sst(climap_lgm, SST_LGM, \"SST\")\n",
    "\n",
    "add_tierney_sst(lgm_pacific, SSS_LGM, \"SSS\")\n",
    "add_tierney_sst(lgm_atlantic, SSS_LGM, \"SSS\")\n",
    "add_tierney_sst(climap_lgm, SSS_LGM, \"SSS\")\n",
    "\n",
    "lgm_pacific.to_csv(\"../data/lgm_foram/raw/LGM_MARGO/LGM_MARGO_pacific_count_wsst.csv\",index=False)\n",
    "lgm_atlantic.to_csv(\"../data/lgm_foram/raw/LGM_MARGO/LGM_MARGO_SouthAtlantic_count_wsst.csv\",index=False)\n",
    "climap_lgm.to_csv(\"../data/lgm_foram/raw/LGM_CLIMAP_wsst.csv\",index=False)"
   ],
   "metadata": {
    "collapsed": false
   }
  },
  {
   "cell_type": "code",
   "execution_count": 4,
   "outputs": [],
   "source": [
    "forcens = pd.read_csv(\"../data/modern_foram/raw/forcens_raw_count.csv\")\n",
    "forcens = forcens.dropna(subset=['Longitude', 'Latitude'])\n",
    "forcens = forcens.reset_index(drop=True)\n",
    "add_tierney_sst(forcens, SST_HOL, \"SST\")\n",
    "add_tierney_sst(forcens, SSS_HOL, \"SSS\")\n",
    "forcens.to_csv(\"../data/modern_foram/raw/forcens_raw_count_wsst.csv\")"
   ],
   "metadata": {
    "collapsed": false
   }
  }
 ],
 "metadata": {
  "kernelspec": {
   "display_name": "Python 3",
   "language": "python",
   "name": "python3"
  },
  "language_info": {
   "codemirror_mode": {
    "name": "ipython",
    "version": 2
   },
   "file_extension": ".py",
   "mimetype": "text/x-python",
   "name": "python",
   "nbconvert_exporter": "python",
   "pygments_lexer": "ipython2",
   "version": "2.7.6"
  }
 },
 "nbformat": 4,
 "nbformat_minor": 0
}
