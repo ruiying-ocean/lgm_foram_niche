{
 "cells": [
  {
   "cell_type": "code",
   "execution_count": 5,
   "outputs": [],
   "source": [
    "from cgeniepy.foram import ForamModel as fm\n",
    "from matplotlib import pyplot as plt\n",
    "import matplotlib as mpl\n",
    "import numpy as np\n",
    "import seaborn as sns\n",
    "from cgeniepy.foram import scd\n",
    "\n",
    "mpl.rcParams.update(mpl.rcParamsDefault)\n",
    "mpl.rcParams[\"font.family\"] = \"Fira Sans\""
   ],
   "metadata": {
    "collapsed": false
   }
  },
  {
   "cell_type": "code",
   "execution_count": 6,
   "outputs": [],
   "source": [
    "def dissimilarity(xmodel, xtime, ymodel=None, ytime=None):\n",
    "\n",
    "    if not ymodel:\n",
    "        #print(\"Detecting the same model\")\n",
    "        ymodel = xmodel\n",
    "\n",
    "    # to avoid \"if not zero = True\"\n",
    "    if not ytime and ytime != 0:\n",
    "        #print(\"Detecting the same time\")\n",
    "        ytime = xtime\n",
    "\n",
    "    foram_names = [\"bn\", \"bs\", \"sn\", \"ss\"]\n",
    "    x_assem, y_assem = [],[]\n",
    "\n",
    "    for i, foram in enumerate(foram_names):\n",
    "        x_state_foram = fm(xmodel).select_foramtype(foram).relative_abundance().isel(time=xtime)\n",
    "        y_state_foram = fm(ymodel).select_foramtype(foram).relative_abundance().isel(time=ytime)\n",
    "        x_assem.append(x_state_foram.pure_array())\n",
    "        y_assem.append(y_state_foram.pure_array())\n",
    "\n",
    "    # calculate squared chord distance for each model\n",
    "    assemblage_1 = np.array(x_assem)\n",
    "    assemblage_2 = np.array(y_assem)\n",
    "    return scd(assemblage_1, assemblage_2)\n",
    "\n",
    "def biomass_diff(xmodel, xtime, ymodel=None, ytime=None, percentage=False):\n",
    "    if not ymodel:\n",
    "        #print(\"Detecting the same model\")\n",
    "        ymodel = xmodel\n",
    "\n",
    "    # to avoid \"if not zero = True\"\n",
    "    if not ytime and ytime != 0:\n",
    "        #print(\"Detecting the same time\")\n",
    "        ytime = xtime\n",
    "\n",
    "    foram_names = [\"bn\", \"bs\", \"sn\", \"ss\"]\n",
    "    x_assem, y_assem = [],[]\n",
    "\n",
    "    for foram in foram_names:\n",
    "        x_state_foram = fm(xmodel).select_foramtype(foram).biomass().isel(time=xtime).sum().magnitude\n",
    "        y_state_foram = fm(ymodel).select_foramtype(foram).biomass().isel(time=ytime).sum().magnitude\n",
    "        x_assem.append(x_state_foram)\n",
    "        y_assem.append(y_state_foram)\n",
    "\n",
    "    # calculate squared chord distance for each model\n",
    "    assemblage_1 = np.array(x_assem).sum()\n",
    "    assemblage_2 = np.array(y_assem).sum()\n",
    "    diff = assemblage_1 -assemblage_2\n",
    "    if percentage:\n",
    "        return diff/assemblage_2 * 100\n",
    "    else:\n",
    "        return diff"
   ],
   "metadata": {
    "collapsed": false
   }
  },
  {
   "cell_type": "code",
   "execution_count": 7,
   "outputs": [],
   "source": [
    "#biomass_diff(xmodel=\"../model/muffin.CB.GIteiiva.BASESFeTDTL_rb_foramecogem2.1\", xtime=-1,\n",
    "#             ymodel=\"../model/worjh2.RpCO2_Rp13CO2.Albani.0ka.historical\", ytime=-1, percentage=True) -> 50% change\n",
    "\n",
    "#dissimilarity(xmodel=\"../model/muffin.CB.GIteiiva.BASESFeTDTL_rb_foramecogem2.1\", xtime=-1,\n",
    "#             ymodel=\"../model/worjh2.RpCO2_Rp13CO2.Albani.0ka.historical\", ytime=-1).nanmean()"
   ],
   "metadata": {
    "collapsed": false
   }
  },
  {
   "cell_type": "code",
   "execution_count": null,
   "outputs": [],
   "source": [
    "mod_paths = [\n",
    "    \"../model/worjh2.RpCO2_Rp13CO2.Albani.2100.1p5deg\",\n",
    "    \"../model/worjh2.RpCO2_Rp13CO2.Albani.2100.2deg\",\n",
    "    \"../model/worjh2.RpCO2_Rp13CO2.Albani.2100.3deg\",\n",
    "    \"../model/worjh2.RpCO2_Rp13CO2.Albani.2100.4deg\",\n",
    "]\n",
    "\n",
    "# Cumulative dissimilarity\n",
    "sns.set_theme()\n",
    "sns.set_style(\"whitegrid\")\n",
    "colors = sns.color_palette(\"tab10\", 4)\n",
    "\n",
    "dtemp = [\"1.5\", \"2\", \"3\", \"4\"]\n",
    "\n",
    "fig, (ax1, ax2) = plt.subplots(ncols=2, figsize=(10, 5), tight_layout=True)\n",
    "\n",
    "for i, ipath in enumerate(mod_paths):\n",
    "    dis = []\n",
    "    biomass = []\n",
    "    time_label = fm(ipath).select_var(\"time\").array.values\n",
    "    # print 2000 year and afterwards\n",
    "    for j in range(len(time_label)):\n",
    "        dis.append(dissimilarity(xmodel=ipath, xtime=0, ytime=j).nanmean())\n",
    "        biomass.append(biomass_diff(xmodel=ipath, xtime=j, ytime=0, percentage=True))\n",
    "    dis = np.array(dis)\n",
    "    biomass = np.array(biomass)\n",
    "    ax1.plot(time_label, biomass, label=dtemp[i], color=colors[i], linewidth=1.5)\n",
    "    ax2.plot(time_label, dis, label=dtemp[i], color=colors[i], linewidth=1.5)\n",
    "\n",
    "ax1.legend()\n",
    "ax2.legend()\n",
    "ax1.set_xlabel(\"Year\")\n",
    "ax2.set_xlabel(\"Year\")\n",
    "ax1.grid(True, which='both', linestyle='--', linewidth=0.3)\n",
    "ax2.grid(True, which='both', linestyle='--', linewidth=0.3)\n",
    "for position in ['top','bottom','left','right']:\n",
    "    ax1.spines[position].set_linewidth(1)\n",
    "    ax1.spines[position].set_color(\"black\")\n",
    "    ax2.spines[position].set_linewidth(1)\n",
    "    ax2.spines[position].set_color(\"black\")\n",
    "\n",
    "ax1.set_ylabel(\"Total biomass change (%)\")\n",
    "ax2.set_ylabel(\"Assemblage dissimilarity\")\n",
    "fig.savefig(\"../output/assemblage_change.png\", dpi=300)"
   ],
   "metadata": {
    "collapsed": false,
    "pycharm": {
     "is_executing": true
    }
   }
  }
 ],
 "metadata": {
  "kernelspec": {
   "display_name": "Python 3",
   "language": "python",
   "name": "python3"
  },
  "language_info": {
   "codemirror_mode": {
    "name": "ipython",
    "version": 2
   },
   "file_extension": ".py",
   "mimetype": "text/x-python",
   "name": "python",
   "nbconvert_exporter": "python",
   "pygments_lexer": "ipython2",
   "version": "2.7.6"
  }
 },
 "nbformat": 4,
 "nbformat_minor": 0
}
