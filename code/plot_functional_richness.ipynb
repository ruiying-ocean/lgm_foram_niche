{
 "cells": [
  {
   "cell_type": "code",
   "execution_count": 14,
   "metadata": {
    "collapsed": true
   },
   "outputs": [],
   "source": [
    "from cgeniepy.foram import ForamModel as fm\n",
    "import matplotlib.pyplot as plt\n",
    "import cartopy.crs as ccrs\n",
    "import matplotlib as mpl\n",
    "import matplotlib.transforms as mtransforms\n",
    "\n",
    "mpl.rcParams.update(mpl.rcParamsDefault)\n",
    "mpl.rcParams['font.family'] = 'Fira Sans'"
   ]
  },
  {
   "cell_type": "code",
   "execution_count": 16,
   "outputs": [],
   "source": [
    "mod_paths = [\n",
    "    \"../model/muffin.CB.GIteiiva.BASESFeTDTL_rb_foramecogem2.1\",\n",
    "    \"../model/worjh2.RpCO2_Rp13CO2.Albani.0ka.historical\",\n",
    "    \"../model/worjh2.RpCO2_Rp13CO2.Albani.2100.4deg\",\n",
    "]\n",
    "\n",
    "fig, axs = plt.subplots(nrows=3, ncols=1, figsize=(10, 8),\n",
    "                        subplot_kw={'projection': ccrs.Robinson()})\n",
    "trans = mtransforms.ScaledTranslation(10/72, -5/72, fig.dpi_scale_trans)\n",
    "\n",
    "def foram_presence(model_path, foram_type):\n",
    "    model = fm(model_path)\n",
    "    data = model.select_foramtype(foram_type).biomass().isel(time=-1)\n",
    "    data.where(data.array>1E-9, ifso=1, otherwise=0, overwrite_array=True)\n",
    "    return data\n",
    "\n",
    "def f_richness(model_path):\n",
    "    fr = foram_presence(model_path, \"bn\") + foram_presence(model_path, \"bs\") + \\\n",
    "        foram_presence(model_path, \"sn\") + foram_presence(model_path, \"ss\")\n",
    "    return  fr\n",
    "\n",
    "labels = ['a', 'b', 'c']\n",
    "titles = [\"LGM\", \"Modern (2020s)\", r\"Future, 2100 (+4$^\\circ$C)\"]\n",
    "\n",
    "for i, ipath in enumerate(mod_paths):\n",
    "    ax = axs.flat[i]\n",
    "    ax.text(0, 0.95, labels[i], transform=ax.transAxes + trans, weight=\"bold\", fontsize=12)\n",
    "    ax.set_title(titles[i])\n",
    "    f_richness(ipath).plot_map(ax=ax, colorbar=False)\n",
    "\n",
    "cax = fig.add_axes([0.40, 0.07, 0.2, 0.02])\n",
    "cb = mpl.colorbar.ColorbarBase(cax, orientation='horizontal', cmap='viridis',\n",
    "                               norm=mpl.colors.Normalize(0, 4), ticks=[0, 1, 2, 3, 4],\n",
    "                               label='Functional richness')"
   ],
   "metadata": {
    "collapsed": false
   }
  },
  {
   "cell_type": "code",
   "execution_count": 17,
   "outputs": [],
   "source": [
    "fig.savefig(\"../output/functional_richness.png\", dpi=400, bbox_inches='tight')"
   ],
   "metadata": {
    "collapsed": false
   }
  },
  {
   "cell_type": "code",
   "execution_count": null,
   "outputs": [],
   "source": [],
   "metadata": {
    "collapsed": false
   }
  }
 ],
 "metadata": {
  "kernelspec": {
   "display_name": "Python 3",
   "language": "python",
   "name": "python3"
  },
  "language_info": {
   "codemirror_mode": {
    "name": "ipython",
    "version": 2
   },
   "file_extension": ".py",
   "mimetype": "text/x-python",
   "name": "python",
   "nbconvert_exporter": "python",
   "pygments_lexer": "ipython2",
   "version": "2.7.6"
  }
 },
 "nbformat": 4,
 "nbformat_minor": 0
}
