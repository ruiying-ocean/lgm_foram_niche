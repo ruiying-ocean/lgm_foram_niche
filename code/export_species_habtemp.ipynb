{
 "cells": [
  {
   "cell_type": "code",
   "execution_count": 1,
   "outputs": [
    {
     "name": "stderr",
     "output_type": "stream",
     "text": [
      "<frozen importlib._bootstrap>:241: RuntimeWarning: scipy._lib.messagestream.MessageStream size changed, may indicate binary incompatibility. Expected 56 from C header, got 64 from PyObject\n"
     ]
    }
   ],
   "source": [
    "import numpy as np\n",
    "import xarray as xr\n",
    "import pandas as pd\n",
    "\n",
    "hadisst = xr.open_dataset('~/Science/lgm_foram_census/tidy/HadISST_PI.nc').sst\n",
    "tierneysst = xr.open_dataset('~/Science/lgm_foram_census/tidy/Tierney2020_DA_ocn_regrid.nc').SSTLGM\n",
    "\n",
    "## the hadisst data has a strange bug that cannot be directly slice (frozen dimension)\n",
    "## here is a workaround\n",
    "formatted_hadisst = xr.DataArray(\n",
    "    data=hadisst.values,\n",
    "    dims=('lat', 'lon'),\n",
    "    coords={'lat': hadisst.latitude.values, 'lon': hadisst.longitude.values},\n",
    ")"
   ],
   "metadata": {
    "collapsed": false,
    "ExecuteTime": {
     "end_time": "2023-11-29T20:12:24.542461Z",
     "start_time": "2023-11-29T20:12:22.914594Z"
    }
   },
   "id": "e17af059403ab323"
  },
  {
   "cell_type": "code",
   "execution_count": 2,
   "outputs": [],
   "source": [
    "# OBSERVATION DATA\n",
    "forcens = pd.read_csv(\"~/Science/lgm_foram_census/tidy/forcens_sp_r_wsst.csv\")\n",
    "lgm = pd.read_csv(\"~/Science/lgm_foram_census/tidy/lgm_sp_r_wsst.csv\")\n",
    "margo = lgm[lgm[\"Data_Source\"]=='margo']\n",
    "\n",
    "topt = pd.read_csv(\"../data/obs_sp_Topt.csv\")\n",
    "species_list = topt.species"
   ],
   "metadata": {
    "collapsed": false,
    "ExecuteTime": {
     "end_time": "2023-11-29T20:12:24.582899Z",
     "start_time": "2023-11-29T20:12:24.542955Z"
    }
   },
   "id": "10e5e4fc6ca6ddad"
  },
  {
   "cell_type": "code",
   "execution_count": 3,
   "outputs": [],
   "source": [
    "def hab_lat(df, species):\n",
    "    ## select latitudes, longitudes and species columns\n",
    "    df_sub = df[['Latitude','Longitude',species]]\n",
    "\n",
    "    ## filter out the species with 0 abundance\n",
    "    df_sub = df_sub[df_sub[species] > 0]\n",
    "    \n",
    "    ## get the habitat lattiude\n",
    "    sp_hab_lat =  df_sub.Latitude\n",
    "    sp_hab_north = sp_hab_lat[sp_hab_lat > 0]\n",
    "    sp_hab_south = sp_hab_lat[sp_hab_lat < 0]\n",
    "    \n",
    "    ## get the habitat lattiude min and max in North and South hemispehre\n",
    "    sp_hab_north_min = sp_hab_north.min()\n",
    "    sp_hab_north_max = sp_hab_north.max()\n",
    "    sp_hab_south_min = sp_hab_south.min()\n",
    "    sp_hab_south_max = sp_hab_south.max()    \n",
    "    \n",
    "    return sp_hab_north_min, sp_hab_north_max, sp_hab_south_min, sp_hab_south_max\n",
    "\n",
    "def hab_sstdiff(species):\n",
    "    ## get the habitat lattiude range and use this to get the habitat sst\n",
    "\n",
    "    ## get the PI sst\n",
    "    hab_north_min, hab_north_max, hab_south_min, hab_south_max = hab_lat(forcens, species)\n",
    "    pi_hab_north_sst = np.nanmean(formatted_hadisst.sel(lat=slice(hab_north_max, hab_north_min)))\n",
    "    pi_hab_south_sst = np.nanmean(formatted_hadisst.sel(lat=slice(hab_south_max, hab_south_min)))\n",
    "    pi_hab_sst = (pi_hab_south_sst+ pi_hab_north_sst)/2\n",
    "\n",
    "    ## get the LGM sst\n",
    "    hab_north_min, hab_north_max, hab_south_min, hab_south_max = hab_lat(margo, species)\n",
    "    ## the order in the slice function seems to be reversed in the LGM\n",
    "    lgm_hab_north_sst = tierneysst.sel(lat=slice(hab_north_min,hab_north_max)).mean().values\n",
    "    lgm_hab_south_sst = tierneysst.sel(lat=slice(hab_south_min,hab_south_max)).mean().values\n",
    "    lgm_hab_sst = (lgm_hab_south_sst+ lgm_hab_north_sst)/2\n",
    "\n",
    "    diff = pi_hab_sst - lgm_hab_sst\n",
    "\n",
    "    return diff"
   ],
   "metadata": {
    "collapsed": false,
    "ExecuteTime": {
     "end_time": "2023-11-29T20:12:24.588655Z",
     "start_time": "2023-11-29T20:12:24.585745Z"
    }
   },
   "id": "48186402cca15f13"
  },
  {
   "cell_type": "code",
   "execution_count": 4,
   "outputs": [],
   "source": [
    "## use the func to get the delta temp\n",
    "diff = []\n",
    "for sp in species_list:\n",
    "    diff.append(hab_sstdiff(sp))"
   ],
   "metadata": {
    "collapsed": false,
    "ExecuteTime": {
     "end_time": "2023-11-29T20:12:24.672782Z",
     "start_time": "2023-11-29T20:12:24.590419Z"
    }
   },
   "id": "5332914530974e3d"
  },
  {
   "cell_type": "code",
   "execution_count": 5,
   "outputs": [],
   "source": [
    "# merge back to the topt df\n",
    "topt[\"delta_habtemp\"] = diff\n",
    "\n",
    "topt = topt[[\"species\",\"delta_habtemp\"]]\n",
    "topt.to_csv(\"../data/obs_sp_hab.csv\", index=False)"
   ],
   "metadata": {
    "collapsed": false,
    "ExecuteTime": {
     "end_time": "2023-11-29T20:12:24.677118Z",
     "start_time": "2023-11-29T20:12:24.671Z"
    }
   },
   "id": "e94495c1be8ebc13"
  }
 ],
 "metadata": {
  "kernelspec": {
   "display_name": "Python 3",
   "language": "python",
   "name": "python3"
  },
  "language_info": {
   "codemirror_mode": {
    "name": "ipython",
    "version": 2
   },
   "file_extension": ".py",
   "mimetype": "text/x-python",
   "name": "python",
   "nbconvert_exporter": "python",
   "pygments_lexer": "ipython2",
   "version": "2.7.6"
  }
 },
 "nbformat": 4,
 "nbformat_minor": 5
}
