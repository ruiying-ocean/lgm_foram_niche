{
 "cells": [
  {
   "cell_type": "markdown",
   "id": "be302f3f64308b6e",
   "metadata": {
    "collapsed": false
   },
   "source": [
    "## Foraminiferal Ecogroup Biomass change"
   ]
  },
  {
   "cell_type": "code",
   "execution_count": 1,
   "id": "596074294f86e235",
   "metadata": {
    "ExecuteTime": {
     "end_time": "2023-11-29T13:52:55.888737Z",
     "start_time": "2023-11-29T13:52:55.875959Z"
    },
    "collapsed": false
   },
   "outputs": [
    {
     "name": "stderr",
     "output_type": "stream",
     "text": [
      "<frozen importlib._bootstrap>:241: RuntimeWarning: scipy._lib.messagestream.MessageStream size changed, may indicate binary incompatibility. Expected 56 from C header, got 64 from PyObject\n"
     ]
    }
   ],
   "source": [
    "import cartopy.crs as ccrs\n",
    "import numpy as np\n",
    "import pandas as pd\n",
    "import seaborn as sns\n",
    "import matplotlib.pyplot as plt\n",
    "from cgeniepy.ecology import EcoModel"
   ]
  },
  {
   "cell_type": "code",
   "execution_count": 16,
   "id": "aba476a59fbba4be",
   "metadata": {
    "ExecuteTime": {
     "end_time": "2023-11-29T14:23:31.984717Z",
     "start_time": "2023-11-29T14:23:31.971281Z"
    },
    "collapsed": false
   },
   "outputs": [],
   "source": [
    "def group_biomass_ts(model_path):\n",
    "    \"foraminifera ecogroup biomass time series\"\n",
    "    model = EcoModel(model_path)\n",
    "\n",
    "    ## time and foram ecogroup to be loopped \n",
    "    time = model.get_var(\"time\").array.values + 0.5\n",
    "    foram_names = [\"bn\", \"bs\", \"ss\"]\n",
    "\n",
    "    ## m3 in the first layer\n",
    "    grid_volume = model.grid_volume().isel(zt=0)\n",
    "\n",
    "    ## initialize data_all\n",
    "    allforam_biomass = np.zeros((len(time), len(foram_names)))\n",
    "\n",
    "    ## start loop\n",
    "    for iforam in foram_names:\n",
    "        iforam_biomass = []\n",
    "        for iyear in range(len(time)):\n",
    "            ## mmol C m-3\n",
    "            foram_biomass = model.get_foram(iforam, 'Plankton', 'C').isel(time=iyear)\n",
    "            foram_biomass = foram_biomass * grid_volume ## mmol C\n",
    "            ## convert to Pg C\n",
    "            foram_biomass_Pg = foram_biomass * 12 * 1E-3 * 1E-15\n",
    "\n",
    "            global_Pg =  np.nansum(foram_biomass_Pg.array)\n",
    "\n",
    "            ## store in list\n",
    "            iforam_biomass.append(global_Pg)            \n",
    "            \n",
    "        ## >>>> finish one foram type\n",
    "        ## >>>> convert to numpy array\n",
    "        iforam_biomass = np.array(iforam_biomass)\n",
    "        ## assign the data into the container    \n",
    "        allforam_biomass[:, foram_names.index(iforam)] = iforam_biomass\n",
    "        \n",
    "    # ## add time\n",
    "    allforam_biomass = np.hstack((time.reshape(-1, 1), allforam_biomass))\n",
    "    # ## convert to dataframe\n",
    "    allforam_biomass = pd.DataFrame(allforam_biomass, columns=[\"time\", \"symbiont-barren non-spinose\", \"symbiont-barren spinose\", \"symbiont-obligate spinose\"])\n",
    "    \n",
    "    return allforam_biomass"
   ]
  },
  {
   "cell_type": "code",
   "execution_count": 3,
   "id": "e87b2423f2c8b63c",
   "metadata": {
    "ExecuteTime": {
     "end_time": "2023-11-29T13:54:17.143218Z",
     "start_time": "2023-11-29T13:54:12.260701Z"
    },
    "collapsed": false
   },
   "outputs": [
    {
     "name": "stdout",
     "output_type": "stream",
     "text": [
      "No gemflag is provided, assuming the model includes biogem and ecogem\n",
      "grid area returned in the unit of 'm2'\n",
      "grid volume calculated in the unit of 'm3'\n",
      "No gemflag is provided, assuming the model includes biogem and ecogem\n",
      "grid area returned in the unit of 'm2'\n",
      "grid volume calculated in the unit of 'm3'\n",
      "No gemflag is provided, assuming the model includes biogem and ecogem\n",
      "grid area returned in the unit of 'm2'\n",
      "grid volume calculated in the unit of 'm3'\n",
      "No gemflag is provided, assuming the model includes biogem and ecogem\n",
      "grid area returned in the unit of 'm2'\n",
      "grid volume calculated in the unit of 'm3'\n",
      "No gemflag is provided, assuming the model includes biogem and ecogem\n",
      "grid area returned in the unit of 'm2'\n",
      "grid volume calculated in the unit of 'm3'\n",
      "No gemflag is provided, assuming the model includes biogem and ecogem\n",
      "grid area returned in the unit of 'm2'\n",
      "grid volume calculated in the unit of 'm3'\n",
      "No gemflag is provided, assuming the model includes biogem and ecogem\n",
      "grid area returned in the unit of 'm2'\n",
      "grid volume calculated in the unit of 'm3'\n"
     ]
    }
   ],
   "source": [
    "## plot pre-industrial age to future\n",
    "mod_paths = [\n",
    "    \"../model/muffin.CBE.GIteiiva.BASESFeTDTL_rb.SPIN\",\n",
    "    \"../model/muffin.CBE.worlg4.BASESFeTDTL.SPIN\",\n",
    "    \"../model/muffin.CBE.worlg4.BASESFeTDTL.historical\",\n",
    "    \"../model/muffin.CBE.worlg4.BASESFeTDTL.2100.1p5deg\",\n",
    "    \"../model/muffin.CBE.worlg4.BASESFeTDTL.2100.2deg\",\n",
    "    \"../model/muffin.CBE.worlg4.BASESFeTDTL.2100.3deg\",\n",
    "    \"../model/muffin.CBE.worlg4.BASESFeTDTL.2100.4deg\",\n",
    "]\n",
    "\n",
    "## init a list to store data\n",
    "biomass_data = []\n",
    "for path in mod_paths:\n",
    "    mod_group_biomass = group_biomass_ts(path)\n",
    "    ## add group column based on model path\n",
    "    if \"GIteiiva\" in path:\n",
    "        mod_group_biomass[\"age\"] = \"LGM\"\n",
    "    elif \"BASESFeTDTL.SPIN\" in path:\n",
    "        mod_group_biomass[\"age\"] = \"PI\"\n",
    "    elif \"historical\" in path:\n",
    "        mod_group_biomass[\"age\"] = \"historical\"\n",
    "    elif \"2100\" in path:\n",
    "        mod_group_biomass[\"age\"] = \"+\"+path.split(\".\")[-1]\n",
    "    biomass_data.append(mod_group_biomass)\n",
    "\n",
    "## concat data\n",
    "biomass_data = pd.concat(biomass_data)\n",
    "\n",
    "## longer data format\n",
    "biomass_data = pd.melt(biomass_data, id_vars=[\"time\", \"age\"], var_name=\"foramtype\", value_name=\"biomass\")"
   ]
  },
  {
   "cell_type": "code",
   "execution_count": 4,
   "id": "c4c8435182610bb7",
   "metadata": {
    "ExecuteTime": {
     "end_time": "2023-11-29T14:02:10.803714Z",
     "start_time": "2023-11-29T14:02:10.799271Z"
    },
    "collapsed": false
   },
   "outputs": [],
   "source": [
    "## only use historical and future data\n",
    "biomass_future = biomass_data.loc[(biomass_data['age'] != \"PI\") & (biomass_data['age'] != \"LGM\")]\n",
    "biomass_future = biomass_future[biomass_future['time'] > 1900]"
   ]
  },
  {
   "cell_type": "code",
   "execution_count": 5,
   "id": "7ee2e425643352a8",
   "metadata": {
    "ExecuteTime": {
     "end_time": "2023-11-29T14:02:11.560040Z",
     "start_time": "2023-11-29T14:02:11.556238Z"
    },
    "collapsed": false
   },
   "outputs": [
    {
     "data": {
      "text/plain": [
       "0.1316120152392242"
      ]
     },
     "execution_count": 5,
     "metadata": {},
     "output_type": "execute_result"
    }
   ],
   "source": [
    "## get total biomass in 1926 for reference\n",
    "total_historical = biomass_future[biomass_future['time']==1926]\n",
    "total_future = biomass_future[(biomass_future['time']==2100) & (biomass_future['age']=='+1p5deg')]\n",
    "\n",
    "## proportion of non-symbiont group\n",
    "total_change = total_future.biomass.sum() - total_historical.biomass.sum()\n",
    "symbiont_foram_part =  total_future.biomass.iloc[2] - total_historical.biomass.iloc[2]\n",
    "symbiont_foram_part/total_change"
   ]
  },
  {
   "cell_type": "code",
   "execution_count": 6,
   "id": "7edfd692e3711901",
   "metadata": {
    "ExecuteTime": {
     "end_time": "2023-11-29T14:02:12.102540Z",
     "start_time": "2023-11-29T14:02:12.095135Z"
    },
    "collapsed": false
   },
   "outputs": [
    {
     "name": "stderr",
     "output_type": "stream",
     "text": [
      "/var/folders/rq/vks10_qx2l9b08d_pygvwfzh0000gn/T/ipykernel_94189/2926649014.py:9: DeprecationWarning: DataFrameGroupBy.apply operated on the grouping columns. This behavior is deprecated, and in a future version of pandas the grouping columns will be excluded from the operation. Either pass `include_groups=False` to exclude the groupings or explicitly select the grouping columns after groupby to silence this warning.\n",
      "  biomass_future = biomass_future.groupby(\"foramtype\").apply(lambda g: g.assign(relative_change=g['biomass'] / g['biomass'].iloc[0] - 1))\n"
     ]
    }
   ],
   "source": [
    "## plot time series of future run\n",
    "biomass_future = biomass_data.loc[(biomass_data['age'] != \"PI\") & (biomass_data['age'] != \"LGM\")]\n",
    "biomass_future = biomass_future[biomass_future['time'] > 1900]\n",
    "\n",
    "## remove 2023 (ECOGEM no restart)\n",
    "biomass_future = biomass_future[biomass_future['time'] != 2023]\n",
    "\n",
    "## calculate relative biomass change\n",
    "biomass_future = biomass_future.groupby(\"foramtype\").apply(lambda g: g.assign(relative_change=g['biomass'] / g['biomass'].iloc[0] - 1))\n",
    "\n",
    "biomass_future['relative_change'] = biomass_future['relative_change'] * 100"
   ]
  },
  {
   "cell_type": "code",
   "execution_count": 7,
   "id": "aee82ed7",
   "metadata": {},
   "outputs": [],
   "source": [
    "## copy the last year of historical to the starting point of future scenarios (only for plotting)\n",
    "historical_2022 = biomass_future[(biomass_future['age'] == 'historical') & (biomass_future['time'] == 2022)]\n",
    "\n",
    "result = pd.DataFrame()\n",
    "\n",
    "# Iterate over unique age categories and append modified rows to result DataFrame\n",
    "for age_category in biomass_future['age'].unique():\n",
    "    if age_category != 'historical' and age_category != 'pre-industrial':\n",
    "        modified_df = historical_2022.copy()\n",
    "        modified_df['age'] = age_category\n",
    "        result = pd.concat([result, modified_df], ignore_index=True)\n",
    "\n",
    "biomass_future = pd.concat([biomass_future, result])    "
   ]
  },
  {
   "cell_type": "code",
   "execution_count": 8,
   "id": "811c8196f232ba45",
   "metadata": {
    "ExecuteTime": {
     "end_time": "2023-11-29T14:21:40.917013Z",
     "start_time": "2023-11-29T14:21:40.909164Z"
    },
    "collapsed": false
   },
   "outputs": [],
   "source": [
    "biomass_future = biomass_future.replace(\"+1p5deg\", \"1.5 °C\")\n",
    "biomass_future = biomass_future.replace(\"+2deg\", \"2 °C\")\n",
    "biomass_future = biomass_future.replace(\"+3deg\", \"3 °C\")\n",
    "biomass_future = biomass_future.replace(\"+4deg\", \"4 °C\")"
   ]
  },
  {
   "cell_type": "code",
   "execution_count": 24,
   "id": "88f858d5f6f17cd4",
   "metadata": {
    "ExecuteTime": {
     "end_time": "2023-11-29T14:43:40.095028Z",
     "start_time": "2023-11-29T14:43:39.489115Z"
    },
    "collapsed": false
   },
   "outputs": [
    {
     "name": "stderr",
     "output_type": "stream",
     "text": [
      "/Users/yingrui/miniforge3/envs/workspace/lib/python3.10/site-packages/seaborn/_base.py:948: FutureWarning: When grouping with a length-1 list-like, you will need to pass a length-1 tuple to get_group in a future version of pandas. Pass `(name,)` instead of `name` to silence this warning.\n",
      "  data_subset = grouped_data.get_group(pd_key)\n",
      "/Users/yingrui/miniforge3/envs/workspace/lib/python3.10/site-packages/seaborn/_base.py:948: FutureWarning: When grouping with a length-1 list-like, you will need to pass a length-1 tuple to get_group in a future version of pandas. Pass `(name,)` instead of `name` to silence this warning.\n",
      "  data_subset = grouped_data.get_group(pd_key)\n",
      "/Users/yingrui/miniforge3/envs/workspace/lib/python3.10/site-packages/seaborn/_base.py:948: FutureWarning: When grouping with a length-1 list-like, you will need to pass a length-1 tuple to get_group in a future version of pandas. Pass `(name,)` instead of `name` to silence this warning.\n",
      "  data_subset = grouped_data.get_group(pd_key)\n",
      "/Users/yingrui/miniforge3/envs/workspace/lib/python3.10/site-packages/seaborn/_base.py:948: FutureWarning: When grouping with a length-1 list-like, you will need to pass a length-1 tuple to get_group in a future version of pandas. Pass `(name,)` instead of `name` to silence this warning.\n",
      "  data_subset = grouped_data.get_group(pd_key)\n",
      "/Users/yingrui/miniforge3/envs/workspace/lib/python3.10/site-packages/seaborn/_base.py:948: FutureWarning: When grouping with a length-1 list-like, you will need to pass a length-1 tuple to get_group in a future version of pandas. Pass `(name,)` instead of `name` to silence this warning.\n",
      "  data_subset = grouped_data.get_group(pd_key)\n",
      "/Users/yingrui/miniforge3/envs/workspace/lib/python3.10/site-packages/seaborn/_base.py:948: FutureWarning: When grouping with a length-1 list-like, you will need to pass a length-1 tuple to get_group in a future version of pandas. Pass `(name,)` instead of `name` to silence this warning.\n",
      "  data_subset = grouped_data.get_group(pd_key)\n",
      "/Users/yingrui/miniforge3/envs/workspace/lib/python3.10/site-packages/seaborn/_base.py:948: FutureWarning: When grouping with a length-1 list-like, you will need to pass a length-1 tuple to get_group in a future version of pandas. Pass `(name,)` instead of `name` to silence this warning.\n",
      "  data_subset = grouped_data.get_group(pd_key)\n",
      "/Users/yingrui/miniforge3/envs/workspace/lib/python3.10/site-packages/seaborn/_base.py:948: FutureWarning: When grouping with a length-1 list-like, you will need to pass a length-1 tuple to get_group in a future version of pandas. Pass `(name,)` instead of `name` to silence this warning.\n",
      "  data_subset = grouped_data.get_group(pd_key)\n",
      "/Users/yingrui/miniforge3/envs/workspace/lib/python3.10/site-packages/seaborn/_base.py:948: FutureWarning: When grouping with a length-1 list-like, you will need to pass a length-1 tuple to get_group in a future version of pandas. Pass `(name,)` instead of `name` to silence this warning.\n",
      "  data_subset = grouped_data.get_group(pd_key)\n",
      "/Users/yingrui/miniforge3/envs/workspace/lib/python3.10/site-packages/seaborn/_base.py:948: FutureWarning: When grouping with a length-1 list-like, you will need to pass a length-1 tuple to get_group in a future version of pandas. Pass `(name,)` instead of `name` to silence this warning.\n",
      "  data_subset = grouped_data.get_group(pd_key)\n",
      "/Users/yingrui/miniforge3/envs/workspace/lib/python3.10/site-packages/seaborn/_base.py:948: FutureWarning: When grouping with a length-1 list-like, you will need to pass a length-1 tuple to get_group in a future version of pandas. Pass `(name,)` instead of `name` to silence this warning.\n",
      "  data_subset = grouped_data.get_group(pd_key)\n",
      "/Users/yingrui/miniforge3/envs/workspace/lib/python3.10/site-packages/seaborn/_base.py:948: FutureWarning: When grouping with a length-1 list-like, you will need to pass a length-1 tuple to get_group in a future version of pandas. Pass `(name,)` instead of `name` to silence this warning.\n",
      "  data_subset = grouped_data.get_group(pd_key)\n",
      "/Users/yingrui/miniforge3/envs/workspace/lib/python3.10/site-packages/seaborn/_base.py:948: FutureWarning: When grouping with a length-1 list-like, you will need to pass a length-1 tuple to get_group in a future version of pandas. Pass `(name,)` instead of `name` to silence this warning.\n",
      "  data_subset = grouped_data.get_group(pd_key)\n",
      "/Users/yingrui/miniforge3/envs/workspace/lib/python3.10/site-packages/seaborn/_base.py:948: FutureWarning: When grouping with a length-1 list-like, you will need to pass a length-1 tuple to get_group in a future version of pandas. Pass `(name,)` instead of `name` to silence this warning.\n",
      "  data_subset = grouped_data.get_group(pd_key)\n",
      "/Users/yingrui/miniforge3/envs/workspace/lib/python3.10/site-packages/seaborn/_base.py:948: FutureWarning: When grouping with a length-1 list-like, you will need to pass a length-1 tuple to get_group in a future version of pandas. Pass `(name,)` instead of `name` to silence this warning.\n",
      "  data_subset = grouped_data.get_group(pd_key)\n"
     ]
    },
    {
     "data": {
      "image/png": "[encoded data removed]",
      "text/plain": [
       "<Figure size 823x250 with 3 Axes>"
      ]
     },
     "metadata": {},
     "output_type": "display_data"
    }
   ],
   "source": [
    "def set_theme(base_size=7, base_family=\"helvetica\"):\n",
    "\n",
    "    custom_params = {\n",
    "        \"axes.spines.right\": False,\n",
    "        \"axes.spines.top\": False,\n",
    "        \"axes.grid\": True,\n",
    "        \"grid.color\": \"#f0f0f0\",\n",
    "        \"grid.linewidth\": 0.5,\n",
    "        'lines.linewidth': 1.0,\n",
    "        'legend.frameon': False,\n",
    "    }\n",
    "\n",
    "    sns.set_theme(context='notebook', style='ticks', font=base_family, rc=custom_params)\n",
    "\n",
    "\n",
    "    font = {\n",
    "        'family': base_family,\n",
    "        'weight': 'bold',\n",
    "        'size': base_size\n",
    "    }\n",
    "\n",
    "    plt.rc('font', **font)\n",
    "\n",
    "    params = {\n",
    "        'axes.labelsize': base_size,\n",
    "        'axes.titlesize': base_size,\n",
    "        'xtick.labelsize': base_size,\n",
    "        'ytick.labelsize': base_size\n",
    "    }\n",
    "    plt.rcParams.update(params)\n",
    "\n",
    "set_theme(base_size=7)\n",
    "\n",
    "reds_palette = sns.color_palette(\"inferno\", n_colors=4).as_hex()\n",
    "# Add grey as the first color in the palette\n",
    "custom_palette = [\"#808080\"] + reds_palette\n",
    "\n",
    "# Create a FacetGrid using seaborn.relplot()\n",
    "with sns.plotting_context(rc={\"legend.fontsize\":7}):\n",
    "    g = sns.relplot(\n",
    "        data=biomass_future,\n",
    "        x='time',\n",
    "        y='relative_change',\n",
    "        hue='age',\n",
    "        kind='line',\n",
    "        markers=True,\n",
    "        col='foramtype', \n",
    "        col_wrap=3,\n",
    "        height=2.5,\n",
    "        palette=custom_palette,\n",
    "        \n",
    "    )\n",
    "\n",
    "g._legend.set_title(\"\")\n",
    "g._legend.set_bbox_to_anchor([0.18,0.3])\n",
    "\n",
    "\n",
    "   \n",
    "## add letter\n",
    "# Set axis labels and plot title\n",
    "g.set_axis_labels('', 'Relative biomass change (%)')\n",
    "\n",
    "g.set_titles(\"{col_name}\",fontsize=7)\n",
    "\n",
    "# Add subplot labels (a, b, c, ...)\n",
    "for ax, label in zip(g.axes.flat, [\"a\", \"b\", \"c\"]):\n",
    "    ax.text(0, 1.1, label, transform=ax.transAxes, fontweight='bold', \n",
    "            fontsize=8, va='top', ha='left')\n",
    "## save figure\n",
    "g.savefig('../output/ext_fig6.jpg', dpi=300)"
   ]
  }
 ],
 "metadata": {
  "kernelspec": {
   "display_name": "Python 3",
   "language": "python",
   "name": "python3"
  },
  "language_info": {
   "codemirror_mode": {
    "name": "ipython",
    "version": 3
   },
   "file_extension": ".py",
   "mimetype": "text/x-python",
   "name": "python",
   "nbconvert_exporter": "python",
   "pygments_lexer": "ipython3",
   "version": "3.10.12"
  }
 },
 "nbformat": 4,
 "nbformat_minor": 5
}
