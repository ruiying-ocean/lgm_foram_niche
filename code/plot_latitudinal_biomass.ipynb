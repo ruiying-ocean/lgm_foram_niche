{
 "cells": [
  {
   "attachments": {},
   "cell_type": "markdown",
   "metadata": {
    "collapsed": false
   },
   "source": [
    "# Latitudinal Biomass Gradient"
   ]
  },
  {
   "cell_type": "code",
   "execution_count": 7,
   "metadata": {
    "collapsed": false
   },
   "outputs": [],
   "source": [
    "from cgeniepy.foram import ForamModel as fm\n",
    "from matplotlib import pyplot as plt\n",
    "import matplotlib as mpl\n",
    "import cartopy.crs as ccrs\n",
    "from mpl_toolkits.axes_grid1 import make_axes_locatable\n",
    "from cgeniepy.grid import GENIE_lat\n",
    "import pandas as pd\n",
    "import numpy as np\n",
    "import seaborn as sns\n",
    "from cgeniepy.plot import genie_cmap\n",
    "import matplotlib.transforms as mtransforms\n",
    "\n",
    "# `rm ~/.matplotlib/fontlist-v330.json` if can't find font\n",
    "mpl.rcParams.update(mpl.rcParamsDefault)\n",
    "mpl.rcParams[\"font.family\"] = \"Fira Sans\"\n",
    "my_cmap = genie_cmap(\"parula\")\n",
    "\n",
    "def new_axis_right(ax):\n",
    "    divider = make_axes_locatable(ax)\n",
    "    ax_right = divider.new_horizontal(size=\"30%\", pad=0.5, axes_class=plt.Axes)\n",
    "    ax_right.grid(True, which='both', linestyle='--', linewidth=0.3)\n",
    "    for position in ['top','bottom','left','right']:\n",
    "        ax_right.spines[position].set_linewidth(0.5)\n",
    "\n",
    "    ax_right.set_xlim([0, 0.25])\n",
    "    return ax_right"
   ]
  },
  {
   "cell_type": "code",
   "execution_count": 8,
   "metadata": {
    "collapsed": false
   },
   "outputs": [
    {
     "name": "stderr",
     "output_type": "stream",
     "text": [
      "/Users/yingrui/cgeniepy/src/cgeniepy/core.py:236: RuntimeWarning: Mean of empty slice\n",
      "  return np.nanmean(self.pure_array(), *args, **kwargs)\n",
      "/Users/yingrui/cgeniepy/src/cgeniepy/core.py:236: RuntimeWarning: Mean of empty slice\n",
      "  return np.nanmean(self.pure_array(), *args, **kwargs)\n"
     ]
    }
   ],
   "source": [
    "## Init figure and axes\n",
    "fig = plt.figure(figsize=(10, 10))\n",
    "trans = mtransforms.ScaledTranslation(10/72, -5/72, fig.dpi_scale_trans)\n",
    "\n",
    "ax1 = fig.add_subplot(311, projection=ccrs.Robinson())\n",
    "ax1r = new_axis_right(ax1)\n",
    "fig.add_axes(ax1r)\n",
    "\n",
    "ax2 = fig.add_subplot(312, projection=ccrs.Robinson())\n",
    "ax2r = new_axis_right(ax2)\n",
    "fig.add_axes(ax2r)\n",
    "\n",
    "ax3 = fig.add_subplot(313, projection=ccrs.Robinson())\n",
    "ax3r = new_axis_right(ax3)\n",
    "fig.add_axes(ax3r)\n",
    "\n",
    "ax3r.set_xlabel(\"\\n\"\n",
    "                r\"Zonal average biomass\"\n",
    "                \"\\n\"\n",
    "                r\" (mmol C m$^{-3}$)\")\n",
    "\n",
    "\n",
    "## plot latitudinal biomass gradient\n",
    "def plot_lbg(model_path, ax_main, ax_side, label=\"\", title=\"\", time=-1):\n",
    "    ax_main.text(0, 0.95, label, transform=ax_main.transAxes + trans, weight=\"bold\", fontsize=12)\n",
    "    ax_main.set_title(title)\n",
    "    model = fm(model_path)\n",
    "    p = model.select_foramtype([\"bn\", \"bs\",\"sn\",\"ss\"]).biomass(combine_vars=True).take(-1, axis=0).plot_map(ax=ax_main, colorbar=False, cmap=my_cmap, vmax=0.15)\n",
    "    bn = model.select_foramtype(\"bn\").biomass().isel(time=time).nanmean(axis=1)\n",
    "    bs = model.select_foramtype(\"bs\").biomass().isel(time=time).nanmean(axis=1)\n",
    "    sn = model.select_foramtype(\"sn\").biomass().isel(time=time).nanmean(axis=1)\n",
    "    ss = model.select_foramtype(\"ss\").biomass().isel(time=time).nanmean(axis=1)\n",
    "    lat = GENIE_lat()\n",
    "    df = pd.DataFrame(data=np.array([bn, bs, sn, ss]).T, index=np.array(lat).T,\n",
    "                      columns = [\"Symbiont-barren Non-spinose\",\n",
    "                                 \"Symbiont-barrn Spinose\", \"Symbiont-facultative non-spinose\", \"Symbiont-obligate spinose\"])\n",
    "    df.index.name='Latitude'\n",
    "    data = np.cumsum(df.values, axis=1)\n",
    "    clist = sns.color_palette(\"RdBu_r\", 4).as_hex()\n",
    "    for i, col in enumerate(df.columns):\n",
    "        ax_side.fill_betweenx(df.index, data[:,i], label=col, zorder=-i, color=clist[i])\n",
    "    return p\n",
    "\n",
    "# Don't use the first year because the model isn't in equilibrium with lack of restart coding\n",
    "\n",
    "plot_lbg(\"../model/muffin.CB.GIteiiva.BASESFeTDTL_rb_foramecogem2.1\", ax1, ax1r, label=\"a\", title=\"LGM\")\n",
    "plot_lbg(\"../model/worjh2.RpCO2_Rp13CO2.Albani.0ka.historical\", ax2, ax2r, label=\"b\", title=\"Modern, 2020s\")\n",
    "p =plot_lbg(\"../model/worjh2.RpCO2_Rp13CO2.Albani.2100.4deg\", ax3, ax3r, label=\"c\",time=-1, title=r\"Future, 2100 (+4$^\\circ$C)\")\n",
    "\n",
    "cax = fig.add_axes([0.36, 0.07, 0.15, 0.02])\n",
    "cbar = fig.colorbar(p, cax=cax, orientation='horizontal',  fraction=0.05)\n",
    "cbar.set_label(r\"Biomass (mmol C m$^{-3}$)\", fontsize=10)\n",
    "\n",
    "fig.savefig(\"../output/total_biomass_change.png\", dpi=400, bbox_inches='tight')"
   ]
  },
  {
   "cell_type": "code",
   "execution_count": 8,
   "outputs": [],
   "source": [],
   "metadata": {
    "collapsed": false
   }
  }
 ],
 "metadata": {
  "kernelspec": {
   "display_name": "workspace",
   "language": "python",
   "name": "python3"
  },
  "language_info": {
   "codemirror_mode": {
    "name": "ipython",
    "version": 3
   },
   "file_extension": ".py",
   "mimetype": "text/x-python",
   "name": "python",
   "nbconvert_exporter": "python",
   "pygments_lexer": "ipython3",
   "version": "3.10.8"
  },
  "vscode": {
   "interpreter": {
    "hash": "788b0b6693a56f6b40f4489447bf22169e7119db9e67f820b45d422e1e8bec91"
   }
  }
 },
 "nbformat": 4,
 "nbformat_minor": 0
}
