{
 "cells": [
  {
   "cell_type": "code",
   "execution_count": null,
   "id": "2fedc8b1",
   "metadata": {
    "collapsed": false,
    "jupyter": {
     "outputs_hidden": false
    },
    "is_executing": true,
    "ExecuteTime": {
     "start_time": "2023-06-26T18:17:22.014051Z"
    }
   },
   "outputs": [
    {
     "name": "stderr",
     "output_type": "stream",
     "text": [
      "/Users/yingrui/miniforge3/envs/workspace/lib/python3.10/site-packages/shapely/constructive.py:181: RuntimeWarning: invalid value encountered in buffer\n",
      "  return lib.buffer(\n"
     ]
    }
   ],
   "source": [
    "import pandas as pd\n",
    "import matplotlib.pyplot as plt\n",
    "import cartopy.crs as ccrs\n",
    "import matplotlib.transforms as mtransforms\n",
    "\n",
    "from cgeniepy.foram import ForamModel as fm\n",
    "from cgeniepy.plot import scatter_map\n",
    "\n",
    "plt.rcParams[\"font.family\"] = \"Roboto\"\n",
    "\n",
    "fig, axes = plt.subplots(nrows=4, ncols=3,\n",
    "                         figsize=(9, 6),\n",
    "                         subplot_kw=dict(projection=ccrs.Robinson()))\n",
    "\n",
    "# OBSERVATION DATA\n",
    "forcens = pd.read_csv(\"~/foram_core/tidy/forcens_fg_r_tidy.csv\")\n",
    "lgm = pd.read_csv(\"~/foram_core/tidy/lgm_fg_r_tidy.csv\")\n",
    "\n",
    "# MODELS\n",
    "mod_pi = fm(\"../model/muffin.CBE.GIteiiaa.BASESFeTDTL_rb_foramecogem2.1\")\n",
    "mod_lgm = fm(\"../model/muffin.CBE.GIteiiva.BASESFeTDTL_rb_foramecogem2.1\")\n",
    "\n",
    "## letters = list(map(chr, range(97, 97+4))) #97 is \"a\"\n",
    "letters = ['Modern\\nmodel', 'Modern\\ndata', 'LGM\\nmodel', 'LGM\\ndata']\n",
    "name_list = [\"bn\", \"bs\", \"ss\"]\n",
    "longname_list = [\"Symbiont-barren Non-Spinose\",\n",
    "                 \"Symbiont-barren Spinose\",\n",
    "                 \"Symbiont-obligate Spinose\"]\n",
    "\n",
    "for i, ax in enumerate(axes.flat):\n",
    "    #labelling\n",
    "    if i%3 == 0:\n",
    "        trans = mtransforms.ScaledTranslation(10/72, -5/72, fig.dpi_scale_trans)\n",
    "        ax.text(-0.5, 0.5, letters[i//3], transform=ax.transAxes + trans, weight=\"bold\", fontsize=12)\n",
    "    if i < 3:\n",
    "        # plot modern model\n",
    "        index = i\n",
    "        p = mod_pi.select_foramtype(name_list[index]).relative_abundance(threshold=0).take(-1,axis=0).plot_map(ax=ax, vmin=0, vmax=1, cmap=\"Spectral_r\", colorbar=False )\n",
    "        ax.set_title(longname_list[i], fontsize=9)\n",
    "    elif i < 6 :\n",
    "        # forcens data\n",
    "        index = i-3\n",
    "        forcens_subset = forcens[['Latitude','Longitude',longname_list[index]]]\n",
    "        scatter_map(ax=ax, df=forcens_subset, var=longname_list[index], vmin=0, vmax=1, cmap=\"Spectral_r\",interpolate=\"linear\")\n",
    "    elif i < 9:\n",
    "        # plot modern model\n",
    "        index = i - 6\n",
    "        p = mod_lgm.select_foramtype(name_list[index]).relative_abundance(threshold=0).take(-1,axis=0).plot_map(ax=ax, vmin=0, vmax=1, cmap=\"Spectral_r\", colorbar=False)\n",
    "    elif i < 12:\n",
    "        # margo data\n",
    "        index = i-9\n",
    "        lgm_subset = lgm[['Latitude','Longitude',longname_list[index]]]\n",
    "        scatter_map(ax=ax, df=lgm_subset, var=longname_list[index], vmin=0, vmax=1, cmap=\"Spectral_r\",\n",
    "                    interpolate=\"linear\")\n",
    "\n",
    "fig.tight_layout()\n",
    "cbar = fig.colorbar(p, ax=axes.flatten().tolist(),orientation=\"horizontal\", pad=0.05, aspect=30, shrink=0.5)\n",
    "cbar.set_label(\"Relative abundance\")\n",
    "cbar.set_label(\"Relative abundance\")\n",
    "fig.savefig(\"../output/lgm_biogeographic_change.png\", dpi=400, bbox_inches='tight')"
   ]
  },
  {
   "cell_type": "markdown",
   "metadata": {
    "collapsed": false
   },
   "source": []
  }
 ],
 "metadata": {
  "kernelspec": {
   "display_name": "workspace",
   "language": "python",
   "name": "python3"
  },
  "language_info": {
   "codemirror_mode": {
    "name": "ipython",
    "version": 3
   },
   "file_extension": ".py",
   "mimetype": "text/x-python",
   "name": "python",
   "nbconvert_exporter": "python",
   "pygments_lexer": "ipython3",
   "version": "3.10.8"
  },
  "vscode": {
   "interpreter": {
    "hash": "788b0b6693a56f6b40f4489447bf22169e7119db9e67f820b45d422e1e8bec91"
   }
  }
 },
 "nbformat": 4,
 "nbformat_minor": 5
}
