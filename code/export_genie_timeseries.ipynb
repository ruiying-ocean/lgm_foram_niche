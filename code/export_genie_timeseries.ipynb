{
 "cells": [
  {
   "cell_type": "code",
   "execution_count": 1,
   "metadata": {
    "collapsed": true
   },
   "outputs": [],
   "source": [
    "import pandas as pd\n",
    "\n",
    "def read_time_series(filename, col_name=None):\n",
    "    with open(filename, 'r') as f:\n",
    "        full_data = [line.strip() for line in f.readlines()]\n",
    "    data = [line.split() for line in full_data[1:]]\n",
    "    df = pd.DataFrame(data).astype('float64')\n",
    "    if col_name:\n",
    "        df.columns = col_name\n",
    "    return df"
   ]
  },
  {
   "cell_type": "code",
   "execution_count": 40,
   "outputs": [],
   "source": [
    "# PI run\n",
    "pi_temp = read_time_series('../model/worjh2.RpCO2_Rp13CO2.Albani.0ka.historical/biogem/biogem_series_atm_temp.res', col_name=['Year', 'Temperature'])\n",
    "pi_co2 = read_time_series('../model/worjh2.RpCO2_Rp13CO2.Albani.0ka.historical/biogem/biogem_series_atm_pCO2.res', col_name=['Year', 'pCO2 (mol)', 'pCO2 (ppm)'])\n",
    "pi_temp['Group'] = 'PI'\n",
    "pi_temp['Group'] = 'PI'\n",
    "\n",
    "# Future runs\n",
    "x,y = [],[]\n",
    "for temp in ['1p5', '2', '3', '4']:\n",
    "    model_path = f\"../model/worjh2.RpCO2_Rp13CO2.Albani.2100.{temp}deg\"\n",
    "    temp_fname = '/biogem/biogem_series_atm_temp.res'\n",
    "    pco2_fname = '/biogem/biogem_series_atm_pCO2.res'\n",
    "\n",
    "    tmp = read_time_series(model_path + temp_fname, col_name=['Year', 'Temperature'])\n",
    "    tmp['Group'] = temp\n",
    "    x.append(tmp)\n",
    "\n",
    "    tmp = read_time_series(model_path + pco2_fname, col_name=['Year', 'pCO2 (mol)', 'pCO2 (ppm)'])\n",
    "    tmp['Group'] = temp\n",
    "    y.append(tmp)\n",
    "\n",
    "# cbind future + PI data\n",
    "temperature = pd.concat([pd.concat(x, axis=0, ignore_index=True), pi_temp], axis=0, ignore_index=True)\n",
    "pco2 = pd.concat([pd.concat(y, axis=0, ignore_index=True), pi_co2], axis=0, ignore_index=True)\n",
    "pco2['pCO2 (ppm)'] = pco2['pCO2 (ppm)'] * 1E6\n",
    "pco2 = pco2.set_index([\"Year\",\"Group\"])\n",
    "temperature = temperature.set_index([\"Year\",\"Group\"])\n",
    "all_in_one = pd.concat([pco2, temperature], axis=1, join='outer')\n",
    "all_in_one = all_in_one.dropna() #drop na caused by inconsistent Year and Group index\n",
    "all_in_one.to_csv(\"../data/model_data/model_pCO2_temperature.csv\", index=True)"
   ],
   "metadata": {
    "collapsed": false
   }
  },
  {
   "cell_type": "code",
   "execution_count": null,
   "outputs": [],
   "source": [],
   "metadata": {
    "collapsed": false
   }
  }
 ],
 "metadata": {
  "kernelspec": {
   "display_name": "Python 3",
   "language": "python",
   "name": "python3"
  },
  "language_info": {
   "codemirror_mode": {
    "name": "ipython",
    "version": 2
   },
   "file_extension": ".py",
   "mimetype": "text/x-python",
   "name": "python",
   "nbconvert_exporter": "python",
   "pygments_lexer": "ipython2",
   "version": "2.7.6"
  }
 },
 "nbformat": 4,
 "nbformat_minor": 0
}
