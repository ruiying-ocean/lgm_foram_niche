{
 "cells": [
  {
   "cell_type": "code",
   "execution_count": 1,
   "metadata": {
    "ExecuteTime": {
     "end_time": "2023-06-09T23:26:13.235399Z",
     "start_time": "2023-06-09T23:26:12.224832Z"
    },
    "collapsed": true
   },
   "outputs": [],
   "source": [
    "import pandas as pd\n",
    "\n",
    "def read_time_series(filename, col_name=None):\n",
    "    with open(filename, 'r') as f:\n",
    "        full_data = [line.strip() for line in f.readlines()]\n",
    "    data = [line.split() for line in full_data[1:]]\n",
    "    df = pd.DataFrame(data).astype('float64')\n",
    "    if col_name:\n",
    "        df.columns = col_name\n",
    "    return df"
   ]
  },
  {
   "cell_type": "code",
   "execution_count": 8,
   "metadata": {
    "collapsed": false
   },
   "outputs": [],
   "source": [
    "# PI run\n",
    "pi_amoc = read_time_series('../model/worjh2.RpCO2_Rp13CO2.Albani.0ka.historical/biogem/biogem_series_misc_opsi.res', col_name=['Year', \"GMOC_min\", \"GMOC_max\", \"AMOC_min\", \"AMOC_max\"])\n",
    "pi_amoc['Group'] = 'PI'\n",
    "\n",
    "# Future runs\n",
    "z = []\n",
    "for temp in ['1p5', '2', '3', '4']:\n",
    "    model_path = f\"../model/worjh2.RpCO2_Rp13CO2.Albani.2100.{temp}deg\"\n",
    "    amoc_fname = '/biogem/biogem_series_misc_opsi.res'\n",
    "\n",
    "    tmp = read_time_series(model_path + amoc_fname, col_name=['Year', \"GMOC_min\", \"GMOC_max\", \"AMOC_min\", \"AMOC_max\"])\n",
    "    tmp['Group'] = temp\n",
    "    z.append(tmp)\n",
    "\n",
    "# cbind future + PI data\n",
    "amoc = pd.concat([pd.concat(z, axis=0, ignore_index=True), pi_amoc], axis=0, ignore_index=True)\n",
    "amoc = amoc.set_index([\"Year\",\"Group\"])\n",
    "amoc.to_csv(\"../data/model_drived/model_moc.csv\", index=True)"
   ]
  },
  {
   "cell_type": "code",
   "execution_count": 9,
   "metadata": {
    "ExecuteTime": {
     "end_time": "2023-06-10T12:40:23.687347Z",
     "start_time": "2023-06-10T12:40:23.668131Z"
    },
    "collapsed": false
   },
   "outputs": [],
   "source": [
    "# PI run\n",
    "his_temp = read_time_series('../model/muffin.CBE.worlg4.BASESFeTDTL.foramecogem2.1.historical/biogem/biogem_series_atm_temp.res', col_name=['Year', 'Temperature'])\n",
    "his_co2 = read_time_series('../model/muffin.CBE.worlg4.BASESFeTDTL.foramecogem2.1.historical/biogem/biogem_series_atm_pCO2.res', col_name=['Year', 'pCO2 (mol)', 'pCO2 (ppm)'])\n",
    "his_temp['Group'] = 'historical'\n",
    "his_temp['Group'] = 'historical'\n",
    "\n",
    "# Future runs\n",
    "x,y = [],[]\n",
    "for temp in ['1p5', '2', '3', '4']:\n",
    "    model_path = f\"../model/muffin.CBE.worlg4.BASESFeTDTL.foramecogem2.1.2100.{temp}deg\"\n",
    "    temp_fname = '/biogem/biogem_series_atm_temp.res'\n",
    "    pco2_fname = '/biogem/biogem_series_atm_pCO2.res'\n",
    "\n",
    "    tmp = read_time_series(model_path + temp_fname, col_name=['Year', 'Temperature'])\n",
    "    tmp['Group'] = temp\n",
    "    x.append(tmp)\n",
    "\n",
    "    tmp = read_time_series(model_path + pco2_fname, col_name=['Year', 'pCO2 (mol)', 'pCO2 (ppm)'])\n",
    "    tmp['Group'] = temp\n",
    "    y.append(tmp)\n",
    "\n",
    "# cbind future + PI data\n",
    "temperature = pd.concat([pd.concat(x, axis=0, ignore_index=True), his_temp], axis=0, ignore_index=True)\n",
    "pco2 = pd.concat([pd.concat(y, axis=0, ignore_index=True), his_co2], axis=0, ignore_index=True)\n",
    "pco2['pCO2 (ppm)'] = pco2['pCO2 (ppm)'] * 1E6\n",
    "pco2 = pco2.set_index([\"Year\",\"Group\"])\n",
    "temperature = temperature.set_index([\"Year\",\"Group\"])\n",
    "all_in_one = pd.concat([pco2, temperature], axis=1, join='outer')\n",
    "all_in_one = all_in_one.dropna() #drop na caused by inconsistent Year and Group index\n",
    "all_in_one.to_csv(\"../data/model_drived/model_pCO2_temperature.csv\", index=True)"
   ]
  }
 ],
 "metadata": {
  "kernelspec": {
   "display_name": "Python 3",
   "language": "python",
   "name": "python3"
  },
  "language_info": {
   "codemirror_mode": {
    "name": "ipython",
    "version": 2
   },
   "file_extension": ".py",
   "mimetype": "text/x-python",
   "name": "python",
   "nbconvert_exporter": "python",
   "pygments_lexer": "ipython2",
   "version": "2.7.6"
  }
 },
 "nbformat": 4,
 "nbformat_minor": 0
}
